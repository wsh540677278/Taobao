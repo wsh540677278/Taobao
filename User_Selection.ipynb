{
 "cells": [
  {
   "cell_type": "code",
   "execution_count": 58,
   "metadata": {
    "collapsed": true
   },
   "outputs": [],
   "source": [
    "import pandas as pd\n",
    "import numpy as np\n",
    "from sklearn import preprocessing "
   ]
  },
  {
   "cell_type": "code",
   "execution_count": 24,
   "metadata": {
    "collapsed": true
   },
   "outputs": [],
   "source": [
    "user_df = pd.read_csv('./data/user_handcrafted_features.csv')"
   ]
  },
  {
   "cell_type": "code",
   "execution_count": 25,
   "metadata": {},
   "outputs": [
    {
     "data": {
      "text/html": [
       "<div>\n",
       "<style scoped>\n",
       "    .dataframe tbody tr th:only-of-type {\n",
       "        vertical-align: middle;\n",
       "    }\n",
       "\n",
       "    .dataframe tbody tr th {\n",
       "        vertical-align: top;\n",
       "    }\n",
       "\n",
       "    .dataframe thead th {\n",
       "        text-align: right;\n",
       "    }\n",
       "</style>\n",
       "<table border=\"1\" class=\"dataframe\">\n",
       "  <thead>\n",
       "    <tr style=\"text-align: right;\">\n",
       "      <th></th>\n",
       "      <th>new_use_id</th>\n",
       "      <th>old_use_id</th>\n",
       "      <th>taobao_record_count</th>\n",
       "      <th>taobao_buy_count</th>\n",
       "      <th>taobao_click_count</th>\n",
       "      <th>taobao_buy_ratio</th>\n",
       "      <th>taobao_items_buy_count</th>\n",
       "      <th>taobao_items_click_count</th>\n",
       "      <th>taobao_items_buy_ratio</th>\n",
       "      <th>taobao_cats_buy_count</th>\n",
       "      <th>taobao_cats_click_count</th>\n",
       "      <th>taobao_cats_buy_ratio</th>\n",
       "      <th>koubei_record_count</th>\n",
       "      <th>koubei_locations_count</th>\n",
       "      <th>koubei_merchant_count</th>\n",
       "    </tr>\n",
       "  </thead>\n",
       "  <tbody>\n",
       "    <tr>\n",
       "      <th>0</th>\n",
       "      <td>0</td>\n",
       "      <td>1980536</td>\n",
       "      <td>1948</td>\n",
       "      <td>4</td>\n",
       "      <td>1944</td>\n",
       "      <td>0.002053</td>\n",
       "      <td>4</td>\n",
       "      <td>323</td>\n",
       "      <td>0.012232</td>\n",
       "      <td>2</td>\n",
       "      <td>25</td>\n",
       "      <td>0.074074</td>\n",
       "      <td>0</td>\n",
       "      <td>0</td>\n",
       "      <td>0</td>\n",
       "    </tr>\n",
       "    <tr>\n",
       "      <th>1</th>\n",
       "      <td>1</td>\n",
       "      <td>647747</td>\n",
       "      <td>337</td>\n",
       "      <td>8</td>\n",
       "      <td>329</td>\n",
       "      <td>0.023739</td>\n",
       "      <td>8</td>\n",
       "      <td>266</td>\n",
       "      <td>0.029197</td>\n",
       "      <td>5</td>\n",
       "      <td>27</td>\n",
       "      <td>0.156250</td>\n",
       "      <td>0</td>\n",
       "      <td>0</td>\n",
       "      <td>0</td>\n",
       "    </tr>\n",
       "    <tr>\n",
       "      <th>2</th>\n",
       "      <td>2</td>\n",
       "      <td>183647</td>\n",
       "      <td>431</td>\n",
       "      <td>79</td>\n",
       "      <td>352</td>\n",
       "      <td>0.183295</td>\n",
       "      <td>56</td>\n",
       "      <td>220</td>\n",
       "      <td>0.202899</td>\n",
       "      <td>18</td>\n",
       "      <td>27</td>\n",
       "      <td>0.400000</td>\n",
       "      <td>0</td>\n",
       "      <td>0</td>\n",
       "      <td>0</td>\n",
       "    </tr>\n",
       "    <tr>\n",
       "      <th>3</th>\n",
       "      <td>3</td>\n",
       "      <td>723956</td>\n",
       "      <td>384</td>\n",
       "      <td>59</td>\n",
       "      <td>325</td>\n",
       "      <td>0.153646</td>\n",
       "      <td>42</td>\n",
       "      <td>203</td>\n",
       "      <td>0.171429</td>\n",
       "      <td>17</td>\n",
       "      <td>23</td>\n",
       "      <td>0.425000</td>\n",
       "      <td>0</td>\n",
       "      <td>0</td>\n",
       "      <td>0</td>\n",
       "    </tr>\n",
       "    <tr>\n",
       "      <th>4</th>\n",
       "      <td>4</td>\n",
       "      <td>1781938</td>\n",
       "      <td>151</td>\n",
       "      <td>8</td>\n",
       "      <td>143</td>\n",
       "      <td>0.052980</td>\n",
       "      <td>8</td>\n",
       "      <td>99</td>\n",
       "      <td>0.074766</td>\n",
       "      <td>6</td>\n",
       "      <td>20</td>\n",
       "      <td>0.230769</td>\n",
       "      <td>0</td>\n",
       "      <td>0</td>\n",
       "      <td>0</td>\n",
       "    </tr>\n",
       "    <tr>\n",
       "      <th>5</th>\n",
       "      <td>5</td>\n",
       "      <td>1652831</td>\n",
       "      <td>370</td>\n",
       "      <td>15</td>\n",
       "      <td>355</td>\n",
       "      <td>0.040541</td>\n",
       "      <td>12</td>\n",
       "      <td>164</td>\n",
       "      <td>0.068182</td>\n",
       "      <td>7</td>\n",
       "      <td>16</td>\n",
       "      <td>0.304348</td>\n",
       "      <td>2</td>\n",
       "      <td>1</td>\n",
       "      <td>1</td>\n",
       "    </tr>\n",
       "    <tr>\n",
       "      <th>6</th>\n",
       "      <td>6</td>\n",
       "      <td>416403</td>\n",
       "      <td>1055</td>\n",
       "      <td>30</td>\n",
       "      <td>1025</td>\n",
       "      <td>0.028436</td>\n",
       "      <td>16</td>\n",
       "      <td>651</td>\n",
       "      <td>0.023988</td>\n",
       "      <td>9</td>\n",
       "      <td>30</td>\n",
       "      <td>0.230769</td>\n",
       "      <td>0</td>\n",
       "      <td>0</td>\n",
       "      <td>0</td>\n",
       "    </tr>\n",
       "    <tr>\n",
       "      <th>7</th>\n",
       "      <td>7</td>\n",
       "      <td>43130</td>\n",
       "      <td>249</td>\n",
       "      <td>31</td>\n",
       "      <td>218</td>\n",
       "      <td>0.124498</td>\n",
       "      <td>29</td>\n",
       "      <td>158</td>\n",
       "      <td>0.155080</td>\n",
       "      <td>9</td>\n",
       "      <td>24</td>\n",
       "      <td>0.272727</td>\n",
       "      <td>23</td>\n",
       "      <td>2</td>\n",
       "      <td>1</td>\n",
       "    </tr>\n",
       "    <tr>\n",
       "      <th>8</th>\n",
       "      <td>8</td>\n",
       "      <td>502518</td>\n",
       "      <td>316</td>\n",
       "      <td>26</td>\n",
       "      <td>290</td>\n",
       "      <td>0.082278</td>\n",
       "      <td>20</td>\n",
       "      <td>186</td>\n",
       "      <td>0.097087</td>\n",
       "      <td>7</td>\n",
       "      <td>22</td>\n",
       "      <td>0.241379</td>\n",
       "      <td>0</td>\n",
       "      <td>0</td>\n",
       "      <td>0</td>\n",
       "    </tr>\n",
       "    <tr>\n",
       "      <th>9</th>\n",
       "      <td>9</td>\n",
       "      <td>109400</td>\n",
       "      <td>221</td>\n",
       "      <td>9</td>\n",
       "      <td>212</td>\n",
       "      <td>0.040724</td>\n",
       "      <td>6</td>\n",
       "      <td>124</td>\n",
       "      <td>0.046154</td>\n",
       "      <td>5</td>\n",
       "      <td>11</td>\n",
       "      <td>0.312500</td>\n",
       "      <td>0</td>\n",
       "      <td>0</td>\n",
       "      <td>0</td>\n",
       "    </tr>\n",
       "  </tbody>\n",
       "</table>\n",
       "</div>"
      ],
      "text/plain": [
       "   new_use_id  old_use_id  taobao_record_count  taobao_buy_count  \\\n",
       "0           0     1980536                 1948                 4   \n",
       "1           1      647747                  337                 8   \n",
       "2           2      183647                  431                79   \n",
       "3           3      723956                  384                59   \n",
       "4           4     1781938                  151                 8   \n",
       "5           5     1652831                  370                15   \n",
       "6           6      416403                 1055                30   \n",
       "7           7       43130                  249                31   \n",
       "8           8      502518                  316                26   \n",
       "9           9      109400                  221                 9   \n",
       "\n",
       "   taobao_click_count  taobao_buy_ratio  taobao_items_buy_count  \\\n",
       "0                1944          0.002053                       4   \n",
       "1                 329          0.023739                       8   \n",
       "2                 352          0.183295                      56   \n",
       "3                 325          0.153646                      42   \n",
       "4                 143          0.052980                       8   \n",
       "5                 355          0.040541                      12   \n",
       "6                1025          0.028436                      16   \n",
       "7                 218          0.124498                      29   \n",
       "8                 290          0.082278                      20   \n",
       "9                 212          0.040724                       6   \n",
       "\n",
       "   taobao_items_click_count  taobao_items_buy_ratio  taobao_cats_buy_count  \\\n",
       "0                       323                0.012232                      2   \n",
       "1                       266                0.029197                      5   \n",
       "2                       220                0.202899                     18   \n",
       "3                       203                0.171429                     17   \n",
       "4                        99                0.074766                      6   \n",
       "5                       164                0.068182                      7   \n",
       "6                       651                0.023988                      9   \n",
       "7                       158                0.155080                      9   \n",
       "8                       186                0.097087                      7   \n",
       "9                       124                0.046154                      5   \n",
       "\n",
       "   taobao_cats_click_count  taobao_cats_buy_ratio  koubei_record_count  \\\n",
       "0                       25               0.074074                    0   \n",
       "1                       27               0.156250                    0   \n",
       "2                       27               0.400000                    0   \n",
       "3                       23               0.425000                    0   \n",
       "4                       20               0.230769                    0   \n",
       "5                       16               0.304348                    2   \n",
       "6                       30               0.230769                    0   \n",
       "7                       24               0.272727                   23   \n",
       "8                       22               0.241379                    0   \n",
       "9                       11               0.312500                    0   \n",
       "\n",
       "   koubei_locations_count  koubei_merchant_count  \n",
       "0                       0                      0  \n",
       "1                       0                      0  \n",
       "2                       0                      0  \n",
       "3                       0                      0  \n",
       "4                       0                      0  \n",
       "5                       1                      1  \n",
       "6                       0                      0  \n",
       "7                       2                      1  \n",
       "8                       0                      0  \n",
       "9                       0                      0  "
      ]
     },
     "execution_count": 25,
     "metadata": {},
     "output_type": "execute_result"
    }
   ],
   "source": [
    "user_df.head(10)"
   ]
  },
  {
   "cell_type": "code",
   "execution_count": 26,
   "metadata": {},
   "outputs": [
    {
     "data": {
      "text/plain": [
       "(963923, 15)"
      ]
     },
     "execution_count": 26,
     "metadata": {},
     "output_type": "execute_result"
    }
   ],
   "source": [
    "user_df.shape"
   ]
  },
  {
   "cell_type": "code",
   "execution_count": 38,
   "metadata": {},
   "outputs": [
    {
     "data": {
      "text/plain": [
       "(963923, 15)"
      ]
     },
     "execution_count": 38,
     "metadata": {},
     "output_type": "execute_result"
    }
   ],
   "source": [
    "user_df[user_df.taobao_record_count > 0].shape"
   ]
  },
  {
   "cell_type": "code",
   "execution_count": 27,
   "metadata": {
    "collapsed": true
   },
   "outputs": [],
   "source": [
    "user_df_in_koubei = user_df[user_df.koubei_record_count > 0]"
   ]
  },
  {
   "cell_type": "code",
   "execution_count": 28,
   "metadata": {},
   "outputs": [
    {
     "data": {
      "text/plain": [
       "(167079, 15)"
      ]
     },
     "execution_count": 28,
     "metadata": {},
     "output_type": "execute_result"
    }
   ],
   "source": [
    "user_df_in_koubei.shape"
   ]
  },
  {
   "cell_type": "code",
   "execution_count": 57,
   "metadata": {
    "collapsed": true
   },
   "outputs": [],
   "source": [
    "user_df_in_koubei.to_csv('./data/user_167079.csv', index = False)"
   ]
  },
  {
   "cell_type": "code",
   "execution_count": 45,
   "metadata": {},
   "outputs": [
    {
     "data": {
      "text/html": [
       "<div>\n",
       "<style scoped>\n",
       "    .dataframe tbody tr th:only-of-type {\n",
       "        vertical-align: middle;\n",
       "    }\n",
       "\n",
       "    .dataframe tbody tr th {\n",
       "        vertical-align: top;\n",
       "    }\n",
       "\n",
       "    .dataframe thead th {\n",
       "        text-align: right;\n",
       "    }\n",
       "</style>\n",
       "<table border=\"1\" class=\"dataframe\">\n",
       "  <thead>\n",
       "    <tr style=\"text-align: right;\">\n",
       "      <th></th>\n",
       "      <th>new_use_id</th>\n",
       "      <th>old_use_id</th>\n",
       "      <th>taobao_record_count</th>\n",
       "      <th>taobao_buy_count</th>\n",
       "      <th>taobao_click_count</th>\n",
       "      <th>taobao_buy_ratio</th>\n",
       "      <th>taobao_items_buy_count</th>\n",
       "      <th>taobao_items_click_count</th>\n",
       "      <th>taobao_items_buy_ratio</th>\n",
       "      <th>taobao_cats_buy_count</th>\n",
       "      <th>taobao_cats_click_count</th>\n",
       "      <th>taobao_cats_buy_ratio</th>\n",
       "      <th>koubei_record_count</th>\n",
       "      <th>koubei_locations_count</th>\n",
       "      <th>koubei_merchant_count</th>\n",
       "    </tr>\n",
       "  </thead>\n",
       "  <tbody>\n",
       "    <tr>\n",
       "      <th>5</th>\n",
       "      <td>5</td>\n",
       "      <td>1652831</td>\n",
       "      <td>370</td>\n",
       "      <td>15</td>\n",
       "      <td>355</td>\n",
       "      <td>0.040541</td>\n",
       "      <td>12</td>\n",
       "      <td>164</td>\n",
       "      <td>0.068182</td>\n",
       "      <td>7</td>\n",
       "      <td>16</td>\n",
       "      <td>0.304348</td>\n",
       "      <td>2</td>\n",
       "      <td>1</td>\n",
       "      <td>1</td>\n",
       "    </tr>\n",
       "    <tr>\n",
       "      <th>7</th>\n",
       "      <td>7</td>\n",
       "      <td>43130</td>\n",
       "      <td>249</td>\n",
       "      <td>31</td>\n",
       "      <td>218</td>\n",
       "      <td>0.124498</td>\n",
       "      <td>29</td>\n",
       "      <td>158</td>\n",
       "      <td>0.155080</td>\n",
       "      <td>9</td>\n",
       "      <td>24</td>\n",
       "      <td>0.272727</td>\n",
       "      <td>23</td>\n",
       "      <td>2</td>\n",
       "      <td>1</td>\n",
       "    </tr>\n",
       "    <tr>\n",
       "      <th>28</th>\n",
       "      <td>28</td>\n",
       "      <td>988047</td>\n",
       "      <td>96</td>\n",
       "      <td>2</td>\n",
       "      <td>94</td>\n",
       "      <td>0.020833</td>\n",
       "      <td>2</td>\n",
       "      <td>76</td>\n",
       "      <td>0.025641</td>\n",
       "      <td>2</td>\n",
       "      <td>20</td>\n",
       "      <td>0.090909</td>\n",
       "      <td>1</td>\n",
       "      <td>1</td>\n",
       "      <td>1</td>\n",
       "    </tr>\n",
       "    <tr>\n",
       "      <th>31</th>\n",
       "      <td>31</td>\n",
       "      <td>1032167</td>\n",
       "      <td>44</td>\n",
       "      <td>4</td>\n",
       "      <td>40</td>\n",
       "      <td>0.090909</td>\n",
       "      <td>3</td>\n",
       "      <td>37</td>\n",
       "      <td>0.075000</td>\n",
       "      <td>2</td>\n",
       "      <td>1</td>\n",
       "      <td>0.666667</td>\n",
       "      <td>3</td>\n",
       "      <td>1</td>\n",
       "      <td>2</td>\n",
       "    </tr>\n",
       "    <tr>\n",
       "      <th>37</th>\n",
       "      <td>37</td>\n",
       "      <td>466466</td>\n",
       "      <td>65</td>\n",
       "      <td>0</td>\n",
       "      <td>65</td>\n",
       "      <td>0.000000</td>\n",
       "      <td>0</td>\n",
       "      <td>41</td>\n",
       "      <td>0.000000</td>\n",
       "      <td>0</td>\n",
       "      <td>8</td>\n",
       "      <td>0.000000</td>\n",
       "      <td>1</td>\n",
       "      <td>1</td>\n",
       "      <td>1</td>\n",
       "    </tr>\n",
       "  </tbody>\n",
       "</table>\n",
       "</div>"
      ],
      "text/plain": [
       "    new_use_id  old_use_id  taobao_record_count  taobao_buy_count  \\\n",
       "5            5     1652831                  370                15   \n",
       "7            7       43130                  249                31   \n",
       "28          28      988047                   96                 2   \n",
       "31          31     1032167                   44                 4   \n",
       "37          37      466466                   65                 0   \n",
       "\n",
       "    taobao_click_count  taobao_buy_ratio  taobao_items_buy_count  \\\n",
       "5                  355          0.040541                      12   \n",
       "7                  218          0.124498                      29   \n",
       "28                  94          0.020833                       2   \n",
       "31                  40          0.090909                       3   \n",
       "37                  65          0.000000                       0   \n",
       "\n",
       "    taobao_items_click_count  taobao_items_buy_ratio  taobao_cats_buy_count  \\\n",
       "5                        164                0.068182                      7   \n",
       "7                        158                0.155080                      9   \n",
       "28                        76                0.025641                      2   \n",
       "31                        37                0.075000                      2   \n",
       "37                        41                0.000000                      0   \n",
       "\n",
       "    taobao_cats_click_count  taobao_cats_buy_ratio  koubei_record_count  \\\n",
       "5                        16               0.304348                    2   \n",
       "7                        24               0.272727                   23   \n",
       "28                       20               0.090909                    1   \n",
       "31                        1               0.666667                    3   \n",
       "37                        8               0.000000                    1   \n",
       "\n",
       "    koubei_locations_count  koubei_merchant_count  \n",
       "5                        1                      1  \n",
       "7                        2                      1  \n",
       "28                       1                      1  \n",
       "31                       1                      2  \n",
       "37                       1                      1  "
      ]
     },
     "execution_count": 45,
     "metadata": {},
     "output_type": "execute_result"
    }
   ],
   "source": [
    "user_df_in_koubei.head(5)"
   ]
  },
  {
   "cell_type": "code",
   "execution_count": 29,
   "metadata": {
    "collapsed": true
   },
   "outputs": [],
   "source": [
    "user_df_in_koubei_sorted = user_df_in_koubei.sort_values(by = 'koubei_record_count', ascending = False, inplace = False)"
   ]
  },
  {
   "cell_type": "code",
   "execution_count": 35,
   "metadata": {
    "collapsed": true
   },
   "outputs": [],
   "source": [
    "counts = []\n",
    "for i in range(1, 11):\n",
    "    counts.append(user_df_in_koubei_sorted[user_df_in_koubei_sorted['koubei_record_count'] > i].shape[0])"
   ]
  },
  {
   "cell_type": "code",
   "execution_count": 36,
   "metadata": {},
   "outputs": [
    {
     "data": {
      "text/plain": [
       "[105713, 77800, 60955, 49162, 40261, 33309, 27831, 23489, 19825, 16863]"
      ]
     },
     "execution_count": 36,
     "metadata": {},
     "output_type": "execute_result"
    }
   ],
   "source": [
    "counts"
   ]
  },
  {
   "cell_type": "code",
   "execution_count": 50,
   "metadata": {
    "collapsed": true
   },
   "outputs": [],
   "source": [
    "user_ndarr = user_df_in_koubei.values[:,2:]"
   ]
  },
  {
   "cell_type": "code",
   "execution_count": 51,
   "metadata": {},
   "outputs": [
    {
     "data": {
      "text/plain": [
       "array([3.70000000e+02, 1.50000000e+01, 3.55000000e+02, 4.05405405e-02,\n",
       "       1.20000000e+01, 1.64000000e+02, 6.81818182e-02, 7.00000000e+00,\n",
       "       1.60000000e+01, 3.04347826e-01, 2.00000000e+00, 1.00000000e+00,\n",
       "       1.00000000e+00])"
      ]
     },
     "execution_count": 51,
     "metadata": {},
     "output_type": "execute_result"
    }
   ],
   "source": [
    "user_ndarr[0,:]"
   ]
  },
  {
   "cell_type": "code",
   "execution_count": 52,
   "metadata": {},
   "outputs": [
    {
     "data": {
      "text/plain": [
       "(167079, 13)"
      ]
     },
     "execution_count": 52,
     "metadata": {},
     "output_type": "execute_result"
    }
   ],
   "source": [
    "user_ndarr.shape"
   ]
  },
  {
   "cell_type": "code",
   "execution_count": 53,
   "metadata": {},
   "outputs": [
    {
     "name": "stdout",
     "output_type": "stream",
     "text": [
      "(167079, 13)\n"
     ]
    }
   ],
   "source": [
    "min_max_scaler = preprocessing.MinMaxScaler()  \n",
    "user_ndarr_normalized = min_max_scaler.fit_transform(user_ndarr)\n",
    "print(user_ndarr_normalized.shape)"
   ]
  },
  {
   "cell_type": "code",
   "execution_count": 55,
   "metadata": {},
   "outputs": [
    {
     "data": {
      "text/plain": [
       "array([0.00442961, 0.00547246, 0.00426206, 0.04054054, 0.01442308,\n",
       "       0.00804553, 0.06818182, 0.2       , 0.24242424, 0.30434783,\n",
       "       0.00396825, 0.        , 0.        ])"
      ]
     },
     "execution_count": 55,
     "metadata": {},
     "output_type": "execute_result"
    }
   ],
   "source": [
    "user_ndarr_normalized[0,:]"
   ]
  },
  {
   "cell_type": "code",
   "execution_count": 56,
   "metadata": {
    "collapsed": true
   },
   "outputs": [],
   "source": [
    "np.save('./data/user_167079.npy', user_ndarr_normalized)"
   ]
  },
  {
   "cell_type": "code",
   "execution_count": null,
   "metadata": {
    "collapsed": true
   },
   "outputs": [],
   "source": []
  }
 ],
 "metadata": {
  "kernelspec": {
   "display_name": "Python 3",
   "language": "python",
   "name": "python3"
  },
  "language_info": {
   "codemirror_mode": {
    "name": "ipython",
    "version": 3
   },
   "file_extension": ".py",
   "mimetype": "text/x-python",
   "name": "python",
   "nbconvert_exporter": "python",
   "pygments_lexer": "ipython3",
   "version": "3.6.4"
  }
 },
 "nbformat": 4,
 "nbformat_minor": 2
}
