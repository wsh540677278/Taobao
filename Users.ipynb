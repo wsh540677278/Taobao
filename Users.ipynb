{
 "cells": [
  {
   "cell_type": "code",
   "execution_count": 1,
   "metadata": {
    "collapsed": true
   },
   "outputs": [],
   "source": [
    "import pandas as pd\n",
    "from tqdm import tqdm\n",
    "import numpy as np\n",
    "import pickle\n",
    "from scipy import sparse\n",
    "from sklearn.cluster import SpectralClustering\n",
    "from sklearn import metrics\n",
    "import matplotlib.pyplot as plt\n",
    "from sklearn import preprocessing \n",
    "from collections import defaultdict\n",
    "import warnings\n",
    "warnings.filterwarnings(\"ignore\")\n",
    "from sklearn.datasets import make_biclusters\n",
    "import matplotlib.pyplot as plt\n",
    "import seaborn as sns\n",
    "sns.set(color_codes=True)"
   ]
  },
  {
   "cell_type": "code",
   "execution_count": 2,
   "metadata": {
    "collapsed": true
   },
   "outputs": [],
   "source": [
    "user_seller_matrix = sparse.load_npz('/Volumes/My Passport/user_seller_sparse_matrix.npz')"
   ]
  },
  {
   "cell_type": "code",
   "execution_count": 3,
   "metadata": {},
   "outputs": [
    {
     "name": "stdout",
     "output_type": "stream",
     "text": [
      "(963923, 500) (500, 10000)\n",
      "20959.93668249568\n"
     ]
    }
   ],
   "source": [
    "# SVD, Matrix Factorization\n",
    "from sklearn.decomposition import NMF\n",
    "# user_seller_matrix\n",
    "\n",
    "# S = np.random.rand(10000, 10000)\n",
    "# for i in tqdm(range(2, 11)):\n",
    "nmf_model = NMF(n_components=500) \n",
    "user_dis = nmf_model.fit_transform(user_seller_matrix)\n",
    "item_dis = nmf_model.components_\n",
    "print(user_dis.shape, item_dis.shape)\n",
    "print(nmf_model.reconstruction_err_)"
   ]
  },
  {
   "cell_type": "code",
   "execution_count": 6,
   "metadata": {
    "collapsed": true
   },
   "outputs": [],
   "source": [
    "np.save(\"./data/item_dis.npy\", item_dis)\n",
    "np.save(\"./data/user_dis.npy\", user_dis)"
   ]
  },
  {
   "cell_type": "markdown",
   "metadata": {},
   "source": [
    "### SVD Features"
   ]
  },
  {
   "cell_type": "code",
   "execution_count": 2,
   "metadata": {
    "collapsed": true
   },
   "outputs": [],
   "source": [
    "user_dis = np.load(\"./data/user_dis.npy\")"
   ]
  },
  {
   "cell_type": "code",
   "execution_count": 3,
   "metadata": {},
   "outputs": [
    {
     "data": {
      "text/plain": [
       "(963923, 500)"
      ]
     },
     "execution_count": 3,
     "metadata": {},
     "output_type": "execute_result"
    }
   ],
   "source": [
    "user_dis.shape"
   ]
  },
  {
   "cell_type": "code",
   "execution_count": 12,
   "metadata": {
    "collapsed": true
   },
   "outputs": [],
   "source": [
    "user_df = pd.DataFrame(user_dis, columns = ['svd_feature_' + str(i) for i in range(1, 501)])"
   ]
  },
  {
   "cell_type": "code",
   "execution_count": 24,
   "metadata": {
    "collapsed": true
   },
   "outputs": [],
   "source": [
    "user_df.to_csv('./data/users_svd_500.csv', index = False)"
   ]
  },
  {
   "cell_type": "code",
   "execution_count": 6,
   "metadata": {
    "collapsed": true
   },
   "outputs": [],
   "source": [
    "def heat_map_for_original(X):\n",
    "    sns.heatmap(X, fmt=\"d\", cmap='YlGnBu')\n",
    "    plt.show()\n",
    "def normalization(X):\n",
    "    min_max_scaler = preprocessing.MinMaxScaler()  \n",
    "    X_minMax = min_max_scaler.fit_transform(X)\n",
    "    #print(X[:1, :])\n",
    "    #print(X_minMax[:1, :])\n",
    "    return X_minMax\n",
    "def show_clusters(data, clustering):\n",
    "    index = []\n",
    "    values = []\n",
    "    cluster_maps = defaultdict(int)\n",
    "    for i in range(len(data)):\n",
    "        cluster_maps[clustering.labels_[i]] += 1\n",
    "    for i in cluster_maps:\n",
    "        index.append(i)\n",
    "        values.append(cluster_maps[i])\n",
    "    print(values)\n",
    "    axes = plt.bar(index, values)\n",
    "    plt.show()"
   ]
  },
  {
   "cell_type": "code",
   "execution_count": 7,
   "metadata": {
    "collapsed": true
   },
   "outputs": [],
   "source": [
    "# normalize\n",
    "#user_dis_normalized_100_sparse = sparse.csr_matrix(normalization(user_dis[:10000, :100]))\n",
    "user_dis_normalized = normalization(user_dis[:30000, :1])\n",
    "del user_dis"
   ]
  },
  {
   "cell_type": "code",
   "execution_count": 8,
   "metadata": {},
   "outputs": [
    {
     "data": {
      "text/plain": [
       "(30000, 1)"
      ]
     },
     "execution_count": 8,
     "metadata": {},
     "output_type": "execute_result"
    }
   ],
   "source": [
    "user_dis_normalized.shape"
   ]
  },
  {
   "cell_type": "markdown",
   "metadata": {},
   "source": [
    "### Feature Enginneering"
   ]
  },
  {
   "cell_type": "markdown",
   "metadata": {},
   "source": [
    "users features:\n",
    "1. (one-hot?) user_id\n",
    "online:\n",
    "2. taobao records count: the count of online records of taobao for user u *\n",
    "3. taobao buy ratio. the ratio between the count of user u bought and clicked. *\n",
    "4. taobao buy count: the count of records that user u bought in the on-line \n",
    "Taobao. *\n",
    "5. taobao click count: the count of records that user u clicked in the on-line \n",
    "Taobao. *\n",
    "6. items buy count: the number of different items user bought *\n",
    "7. items click count: the number of different items user viewed *\n",
    "8. items buy ratio: the ratio between the different items of user u bought and clicked. *\n",
    "9. categories buy count: the number of different categories user bought *\n",
    "10. categories click count: the number of different categories user viewed *\n",
    "11. categories buy ratio: the ratio between the different categories of user u bought and clicked. *\n",
    "12. categories bought one-hot\n",
    "13. categories viewed one-hot\n",
    "14. every category bought count: the number of items user bought in every category\n",
    "15. every category viewed count: the number of items user bought in every category\n",
    "onsite:\n",
    "1. koubei record count *\n",
    "2. locations shopped count *\n",
    "3. merchants shopped count *\n",
    "4. locations of the merchants shopped count"
   ]
  },
  {
   "cell_type": "code",
   "execution_count": 2,
   "metadata": {
    "collapsed": true
   },
   "outputs": [],
   "source": [
    "df_tb = pd.read_csv('./data/ijcai2016_taobao.csv')"
   ]
  },
  {
   "cell_type": "code",
   "execution_count": 3,
   "metadata": {},
   "outputs": [
    {
     "name": "stdout",
     "output_type": "stream",
     "text": [
      "(44528127, 6)\n"
     ]
    },
    {
     "data": {
      "text/html": [
       "<div>\n",
       "<style scoped>\n",
       "    .dataframe tbody tr th:only-of-type {\n",
       "        vertical-align: middle;\n",
       "    }\n",
       "\n",
       "    .dataframe tbody tr th {\n",
       "        vertical-align: top;\n",
       "    }\n",
       "\n",
       "    .dataframe thead th {\n",
       "        text-align: right;\n",
       "    }\n",
       "</style>\n",
       "<table border=\"1\" class=\"dataframe\">\n",
       "  <thead>\n",
       "    <tr style=\"text-align: right;\">\n",
       "      <th></th>\n",
       "      <th>use_ID</th>\n",
       "      <th>sel_ID</th>\n",
       "      <th>ite_ID</th>\n",
       "      <th>cat_ID</th>\n",
       "      <th>act_ID</th>\n",
       "      <th>time</th>\n",
       "    </tr>\n",
       "  </thead>\n",
       "  <tbody>\n",
       "    <tr>\n",
       "      <th>0</th>\n",
       "      <td>1980536</td>\n",
       "      <td>9666</td>\n",
       "      <td>1450952</td>\n",
       "      <td>1</td>\n",
       "      <td>0</td>\n",
       "      <td>20150826</td>\n",
       "    </tr>\n",
       "    <tr>\n",
       "      <th>1</th>\n",
       "      <td>1980536</td>\n",
       "      <td>9666</td>\n",
       "      <td>1450952</td>\n",
       "      <td>1</td>\n",
       "      <td>0</td>\n",
       "      <td>20150826</td>\n",
       "    </tr>\n",
       "    <tr>\n",
       "      <th>2</th>\n",
       "      <td>647747</td>\n",
       "      <td>9666</td>\n",
       "      <td>1450952</td>\n",
       "      <td>1</td>\n",
       "      <td>0</td>\n",
       "      <td>20150915</td>\n",
       "    </tr>\n",
       "    <tr>\n",
       "      <th>3</th>\n",
       "      <td>1980536</td>\n",
       "      <td>9666</td>\n",
       "      <td>1450952</td>\n",
       "      <td>1</td>\n",
       "      <td>0</td>\n",
       "      <td>20150823</td>\n",
       "    </tr>\n",
       "    <tr>\n",
       "      <th>4</th>\n",
       "      <td>183647</td>\n",
       "      <td>9525</td>\n",
       "      <td>578730</td>\n",
       "      <td>1</td>\n",
       "      <td>0</td>\n",
       "      <td>20150711</td>\n",
       "    </tr>\n",
       "  </tbody>\n",
       "</table>\n",
       "</div>"
      ],
      "text/plain": [
       "    use_ID  sel_ID   ite_ID  cat_ID  act_ID      time\n",
       "0  1980536    9666  1450952       1       0  20150826\n",
       "1  1980536    9666  1450952       1       0  20150826\n",
       "2   647747    9666  1450952       1       0  20150915\n",
       "3  1980536    9666  1450952       1       0  20150823\n",
       "4   183647    9525   578730       1       0  20150711"
      ]
     },
     "execution_count": 3,
     "metadata": {},
     "output_type": "execute_result"
    }
   ],
   "source": [
    "print(df_tb.shape)\n",
    "df_tb.head(5)"
   ]
  },
  {
   "cell_type": "code",
   "execution_count": 4,
   "metadata": {
    "collapsed": true
   },
   "outputs": [],
   "source": [
    "new_old_id_maps = pickle.load(open('./data/new_old_id_maps.pkl',\"rb\"))"
   ]
  },
  {
   "cell_type": "code",
   "execution_count": 5,
   "metadata": {
    "collapsed": true
   },
   "outputs": [],
   "source": [
    "user_new_old_id_maps = new_old_id_maps['user_new_old_id_maps']"
   ]
  },
  {
   "cell_type": "code",
   "execution_count": 7,
   "metadata": {
    "collapsed": true
   },
   "outputs": [],
   "source": [
    "user_df = pd.DataFrame(list(user_new_old_id_maps.items()), columns = ['new_use_id', 'old_use_id'])"
   ]
  },
  {
   "cell_type": "code",
   "execution_count": 8,
   "metadata": {},
   "outputs": [
    {
     "data": {
      "text/html": [
       "<div>\n",
       "<style scoped>\n",
       "    .dataframe tbody tr th:only-of-type {\n",
       "        vertical-align: middle;\n",
       "    }\n",
       "\n",
       "    .dataframe tbody tr th {\n",
       "        vertical-align: top;\n",
       "    }\n",
       "\n",
       "    .dataframe thead th {\n",
       "        text-align: right;\n",
       "    }\n",
       "</style>\n",
       "<table border=\"1\" class=\"dataframe\">\n",
       "  <thead>\n",
       "    <tr style=\"text-align: right;\">\n",
       "      <th></th>\n",
       "      <th>new_use_id</th>\n",
       "      <th>old_use_id</th>\n",
       "    </tr>\n",
       "  </thead>\n",
       "  <tbody>\n",
       "    <tr>\n",
       "      <th>0</th>\n",
       "      <td>0</td>\n",
       "      <td>1980536</td>\n",
       "    </tr>\n",
       "    <tr>\n",
       "      <th>1</th>\n",
       "      <td>1</td>\n",
       "      <td>647747</td>\n",
       "    </tr>\n",
       "    <tr>\n",
       "      <th>2</th>\n",
       "      <td>2</td>\n",
       "      <td>183647</td>\n",
       "    </tr>\n",
       "    <tr>\n",
       "      <th>3</th>\n",
       "      <td>3</td>\n",
       "      <td>723956</td>\n",
       "    </tr>\n",
       "    <tr>\n",
       "      <th>4</th>\n",
       "      <td>4</td>\n",
       "      <td>1781938</td>\n",
       "    </tr>\n",
       "    <tr>\n",
       "      <th>5</th>\n",
       "      <td>5</td>\n",
       "      <td>1652831</td>\n",
       "    </tr>\n",
       "    <tr>\n",
       "      <th>6</th>\n",
       "      <td>6</td>\n",
       "      <td>416403</td>\n",
       "    </tr>\n",
       "    <tr>\n",
       "      <th>7</th>\n",
       "      <td>7</td>\n",
       "      <td>43130</td>\n",
       "    </tr>\n",
       "    <tr>\n",
       "      <th>8</th>\n",
       "      <td>8</td>\n",
       "      <td>502518</td>\n",
       "    </tr>\n",
       "    <tr>\n",
       "      <th>9</th>\n",
       "      <td>9</td>\n",
       "      <td>109400</td>\n",
       "    </tr>\n",
       "  </tbody>\n",
       "</table>\n",
       "</div>"
      ],
      "text/plain": [
       "   new_use_id  old_use_id\n",
       "0           0     1980536\n",
       "1           1      647747\n",
       "2           2      183647\n",
       "3           3      723956\n",
       "4           4     1781938\n",
       "5           5     1652831\n",
       "6           6      416403\n",
       "7           7       43130\n",
       "8           8      502518\n",
       "9           9      109400"
      ]
     },
     "execution_count": 8,
     "metadata": {},
     "output_type": "execute_result"
    }
   ],
   "source": [
    "user_df.head(10)"
   ]
  },
  {
   "cell_type": "code",
   "execution_count": 9,
   "metadata": {},
   "outputs": [
    {
     "name": "stderr",
     "output_type": "stream",
     "text": [
      "44528127it [1:07:22, 11015.42it/s]\n"
     ]
    }
   ],
   "source": [
    "tb_buy_count = defaultdict(int)\n",
    "tb_click_count = defaultdict(int)\n",
    "tb_buy_items = defaultdict(list)\n",
    "tb_click_items = defaultdict(list)\n",
    "tb_buy_cats = defaultdict(list)\n",
    "tb_click_cats = defaultdict(list)\n",
    "for i, row in tqdm(df_tb.iterrows()):\n",
    "    old_use_id = row['use_ID']\n",
    "    ite_ID = row['ite_ID']\n",
    "    cat_ID = row['cat_ID']\n",
    "    if row['act_ID'] == 0:\n",
    "        tb_click_count[old_use_id] += 1\n",
    "        if ite_ID not in tb_click_items[old_use_id]:\n",
    "            tb_click_items[old_use_id].append(ite_ID)\n",
    "        if cat_ID not in tb_click_cats[old_use_id]:\n",
    "            tb_click_cats[old_use_id].append(cat_ID)\n",
    "    else:\n",
    "        tb_buy_count[old_use_id] += 1\n",
    "        if ite_ID not in tb_buy_items[old_use_id]:\n",
    "            tb_buy_items[old_use_id].append(ite_ID)\n",
    "        if cat_ID not in tb_buy_cats[old_use_id]:\n",
    "            tb_buy_cats[old_use_id].append(cat_ID)"
   ]
  },
  {
   "cell_type": "code",
   "execution_count": 13,
   "metadata": {
    "collapsed": true
   },
   "outputs": [],
   "source": [
    "raw_user_features = {\n",
    "    'tb_buy_count' : tb_buy_count,\n",
    "    'tb_click_count' : tb_click_count,\n",
    "    'tb_buy_items' : tb_buy_items,\n",
    "    'tb_click_items' : tb_click_items,\n",
    "    'tb_buy_cats' : tb_buy_cats,\n",
    "    'tb_click_cats' : tb_click_cats,\n",
    "}\n",
    "pickle.dump(raw_user_features, open('./data/raw_user_features.pkl', 'wb'))"
   ]
  },
  {
   "cell_type": "code",
   "execution_count": 49,
   "metadata": {
    "collapsed": true
   },
   "outputs": [],
   "source": [
    "tb_buy_items_count = dict(zip(tb_buy_items.keys(), [len(i) for i in tb_buy_items.values()]))\n",
    "tb_click_items_count = dict(zip(tb_click_items.keys(), [len(i) for i in tb_click_items.values()]))\n",
    "tb_buy_cats_count = dict(zip(tb_buy_cats.keys(), [len(i) for i in tb_buy_cats.values()]))\n",
    "tb_click_cats_count = dict(zip(tb_click_cats.keys(), [len(i) for i in tb_click_cats.values()]))"
   ]
  },
  {
   "cell_type": "code",
   "execution_count": 54,
   "metadata": {
    "collapsed": true
   },
   "outputs": [],
   "source": [
    "columns = ['new_use_id', 'old_use_id', \n",
    "           'taobao_record_count', 'taobao_buy_count', 'taobao_click_count', 'taobao_buy_ratio', \n",
    "           'taobao_items_buy_count', 'taobao_items_click_count', 'taobao_items_buy_ratio',\n",
    "           'taobao_cats_buy_count', 'taobao_cats_click_count', 'taobao_cats_buy_ratio',\n",
    "           'koubei_record_count', 'locations_count', 'merchant_count']\n",
    "user_df = user_df.reindex(columns = columns, fill_value=0)"
   ]
  },
  {
   "cell_type": "code",
   "execution_count": 75,
   "metadata": {
    "collapsed": true
   },
   "outputs": [],
   "source": [
    "old_use_id = user_df['old_use_id'].tolist()\n",
    "def helper(df, col, dic):\n",
    "    sorted_feature = []\n",
    "    for i in tqdm(old_use_id):\n",
    "        sorted_feature.append(dic[i])\n",
    "    df[col] = sorted_feature"
   ]
  },
  {
   "cell_type": "code",
   "execution_count": 55,
   "metadata": {},
   "outputs": [
    {
     "name": "stderr",
     "output_type": "stream",
     "text": [
      "100%|██████████| 963923/963923 [00:00<00:00, 1219010.87it/s]\n",
      "100%|██████████| 963923/963923 [00:00<00:00, 1449885.74it/s]\n",
      "100%|██████████| 963923/963923 [00:00<00:00, 1227459.39it/s]\n",
      "100%|██████████| 963923/963923 [00:00<00:00, 1590905.05it/s]\n",
      "100%|██████████| 963923/963923 [00:00<00:00, 1418977.47it/s]\n",
      "100%|██████████| 963923/963923 [00:00<00:00, 1659518.12it/s]\n"
     ]
    }
   ],
   "source": [
    "helper(user_df, 'taobao_buy_count', tb_buy_count)\n",
    "helper(user_df, 'taobao_click_count', tb_click_count)\n",
    "helper(user_df, 'taobao_items_buy_count', tb_buy_items_count)\n",
    "helper(user_df, 'taobao_items_click_count', tb_click_items_count)\n",
    "helper(user_df, 'taobao_cats_buy_count', tb_buy_cats_count)\n",
    "helper(user_df, 'taobao_cats_click_count', tb_click_cats_count)"
   ]
  },
  {
   "cell_type": "code",
   "execution_count": 58,
   "metadata": {
    "collapsed": true
   },
   "outputs": [],
   "source": [
    "#compute ratio\n",
    "def cal_ratio(buy, click):\n",
    "    buy_ratio = defaultdict(int)\n",
    "    for i in old_use_id:\n",
    "        buy_ratio[i] = buy[i] / (buy[i] + click[i])\n",
    "    return buy_ratio"
   ]
  },
  {
   "cell_type": "code",
   "execution_count": 60,
   "metadata": {},
   "outputs": [
    {
     "name": "stderr",
     "output_type": "stream",
     "text": [
      "100%|██████████| 963923/963923 [00:00<00:00, 1934419.97it/s]\n",
      "100%|██████████| 963923/963923 [00:00<00:00, 2367146.09it/s]\n",
      "100%|██████████| 963923/963923 [00:00<00:00, 2236828.01it/s]\n"
     ]
    }
   ],
   "source": [
    "helper(user_df, 'taobao_buy_ratio', cal_ratio(tb_buy_count, tb_click_count))\n",
    "helper(user_df, 'taobao_items_buy_ratio', cal_ratio(tb_buy_items_count, tb_click_items_count))\n",
    "helper(user_df, 'taobao_cats_buy_ratio', cal_ratio(tb_buy_cats_count, tb_click_cats_count))"
   ]
  },
  {
   "cell_type": "code",
   "execution_count": 62,
   "metadata": {},
   "outputs": [
    {
     "name": "stderr",
     "output_type": "stream",
     "text": [
      "100%|██████████| 963923/963923 [00:00<00:00, 2025111.92it/s]\n"
     ]
    }
   ],
   "source": [
    "# taobao_record_count\n",
    "tb_record_count = defaultdict(int)\n",
    "for i in old_use_id:\n",
    "    tb_record_count[i] = tb_buy_count[i] + tb_click_count[i]\n",
    "helper(user_df, 'taobao_record_count', tb_record_count)"
   ]
  },
  {
   "cell_type": "code",
   "execution_count": 69,
   "metadata": {},
   "outputs": [
    {
     "data": {
      "text/html": [
       "<div>\n",
       "<style scoped>\n",
       "    .dataframe tbody tr th:only-of-type {\n",
       "        vertical-align: middle;\n",
       "    }\n",
       "\n",
       "    .dataframe tbody tr th {\n",
       "        vertical-align: top;\n",
       "    }\n",
       "\n",
       "    .dataframe thead th {\n",
       "        text-align: right;\n",
       "    }\n",
       "</style>\n",
       "<table border=\"1\" class=\"dataframe\">\n",
       "  <thead>\n",
       "    <tr style=\"text-align: right;\">\n",
       "      <th></th>\n",
       "      <th>new_use_id</th>\n",
       "      <th>old_use_id</th>\n",
       "      <th>taobao_record_count</th>\n",
       "      <th>taobao_buy_count</th>\n",
       "      <th>taobao_click_count</th>\n",
       "      <th>taobao_buy_ratio</th>\n",
       "      <th>taobao_items_buy_count</th>\n",
       "      <th>taobao_items_click_count</th>\n",
       "      <th>taobao_items_buy_ratio</th>\n",
       "      <th>taobao_cats_buy_count</th>\n",
       "      <th>taobao_cats_click_count</th>\n",
       "      <th>taobao_cats_buy_ratio</th>\n",
       "      <th>koubei_record_count</th>\n",
       "      <th>locations_count</th>\n",
       "      <th>merchant_count</th>\n",
       "      <th>koubei_locations_count</th>\n",
       "      <th>koubei_merchant_count</th>\n",
       "    </tr>\n",
       "  </thead>\n",
       "  <tbody>\n",
       "    <tr>\n",
       "      <th>0</th>\n",
       "      <td>0</td>\n",
       "      <td>1980536</td>\n",
       "      <td>1948</td>\n",
       "      <td>4</td>\n",
       "      <td>1944</td>\n",
       "      <td>0.002053</td>\n",
       "      <td>4</td>\n",
       "      <td>323</td>\n",
       "      <td>0.012232</td>\n",
       "      <td>2</td>\n",
       "      <td>25</td>\n",
       "      <td>0.074074</td>\n",
       "      <td>NaN</td>\n",
       "      <td>0</td>\n",
       "      <td>0</td>\n",
       "      <td>NaN</td>\n",
       "      <td>NaN</td>\n",
       "    </tr>\n",
       "    <tr>\n",
       "      <th>1</th>\n",
       "      <td>1</td>\n",
       "      <td>647747</td>\n",
       "      <td>337</td>\n",
       "      <td>8</td>\n",
       "      <td>329</td>\n",
       "      <td>0.023739</td>\n",
       "      <td>8</td>\n",
       "      <td>266</td>\n",
       "      <td>0.029197</td>\n",
       "      <td>5</td>\n",
       "      <td>27</td>\n",
       "      <td>0.156250</td>\n",
       "      <td>NaN</td>\n",
       "      <td>0</td>\n",
       "      <td>0</td>\n",
       "      <td>NaN</td>\n",
       "      <td>NaN</td>\n",
       "    </tr>\n",
       "    <tr>\n",
       "      <th>2</th>\n",
       "      <td>2</td>\n",
       "      <td>183647</td>\n",
       "      <td>431</td>\n",
       "      <td>79</td>\n",
       "      <td>352</td>\n",
       "      <td>0.183295</td>\n",
       "      <td>56</td>\n",
       "      <td>220</td>\n",
       "      <td>0.202899</td>\n",
       "      <td>18</td>\n",
       "      <td>27</td>\n",
       "      <td>0.400000</td>\n",
       "      <td>NaN</td>\n",
       "      <td>0</td>\n",
       "      <td>0</td>\n",
       "      <td>NaN</td>\n",
       "      <td>NaN</td>\n",
       "    </tr>\n",
       "    <tr>\n",
       "      <th>3</th>\n",
       "      <td>3</td>\n",
       "      <td>723956</td>\n",
       "      <td>384</td>\n",
       "      <td>59</td>\n",
       "      <td>325</td>\n",
       "      <td>0.153646</td>\n",
       "      <td>42</td>\n",
       "      <td>203</td>\n",
       "      <td>0.171429</td>\n",
       "      <td>17</td>\n",
       "      <td>23</td>\n",
       "      <td>0.425000</td>\n",
       "      <td>NaN</td>\n",
       "      <td>0</td>\n",
       "      <td>0</td>\n",
       "      <td>NaN</td>\n",
       "      <td>NaN</td>\n",
       "    </tr>\n",
       "    <tr>\n",
       "      <th>4</th>\n",
       "      <td>4</td>\n",
       "      <td>1781938</td>\n",
       "      <td>151</td>\n",
       "      <td>8</td>\n",
       "      <td>143</td>\n",
       "      <td>0.052980</td>\n",
       "      <td>8</td>\n",
       "      <td>99</td>\n",
       "      <td>0.074766</td>\n",
       "      <td>6</td>\n",
       "      <td>20</td>\n",
       "      <td>0.230769</td>\n",
       "      <td>NaN</td>\n",
       "      <td>0</td>\n",
       "      <td>0</td>\n",
       "      <td>NaN</td>\n",
       "      <td>NaN</td>\n",
       "    </tr>\n",
       "    <tr>\n",
       "      <th>5</th>\n",
       "      <td>5</td>\n",
       "      <td>1652831</td>\n",
       "      <td>370</td>\n",
       "      <td>15</td>\n",
       "      <td>355</td>\n",
       "      <td>0.040541</td>\n",
       "      <td>12</td>\n",
       "      <td>164</td>\n",
       "      <td>0.068182</td>\n",
       "      <td>7</td>\n",
       "      <td>16</td>\n",
       "      <td>0.304348</td>\n",
       "      <td>NaN</td>\n",
       "      <td>0</td>\n",
       "      <td>0</td>\n",
       "      <td>NaN</td>\n",
       "      <td>NaN</td>\n",
       "    </tr>\n",
       "    <tr>\n",
       "      <th>6</th>\n",
       "      <td>6</td>\n",
       "      <td>416403</td>\n",
       "      <td>1055</td>\n",
       "      <td>30</td>\n",
       "      <td>1025</td>\n",
       "      <td>0.028436</td>\n",
       "      <td>16</td>\n",
       "      <td>651</td>\n",
       "      <td>0.023988</td>\n",
       "      <td>9</td>\n",
       "      <td>30</td>\n",
       "      <td>0.230769</td>\n",
       "      <td>NaN</td>\n",
       "      <td>0</td>\n",
       "      <td>0</td>\n",
       "      <td>NaN</td>\n",
       "      <td>NaN</td>\n",
       "    </tr>\n",
       "    <tr>\n",
       "      <th>7</th>\n",
       "      <td>7</td>\n",
       "      <td>43130</td>\n",
       "      <td>249</td>\n",
       "      <td>31</td>\n",
       "      <td>218</td>\n",
       "      <td>0.124498</td>\n",
       "      <td>29</td>\n",
       "      <td>158</td>\n",
       "      <td>0.155080</td>\n",
       "      <td>9</td>\n",
       "      <td>24</td>\n",
       "      <td>0.272727</td>\n",
       "      <td>NaN</td>\n",
       "      <td>0</td>\n",
       "      <td>0</td>\n",
       "      <td>NaN</td>\n",
       "      <td>NaN</td>\n",
       "    </tr>\n",
       "    <tr>\n",
       "      <th>8</th>\n",
       "      <td>8</td>\n",
       "      <td>502518</td>\n",
       "      <td>316</td>\n",
       "      <td>26</td>\n",
       "      <td>290</td>\n",
       "      <td>0.082278</td>\n",
       "      <td>20</td>\n",
       "      <td>186</td>\n",
       "      <td>0.097087</td>\n",
       "      <td>7</td>\n",
       "      <td>22</td>\n",
       "      <td>0.241379</td>\n",
       "      <td>NaN</td>\n",
       "      <td>0</td>\n",
       "      <td>0</td>\n",
       "      <td>NaN</td>\n",
       "      <td>NaN</td>\n",
       "    </tr>\n",
       "    <tr>\n",
       "      <th>9</th>\n",
       "      <td>9</td>\n",
       "      <td>109400</td>\n",
       "      <td>221</td>\n",
       "      <td>9</td>\n",
       "      <td>212</td>\n",
       "      <td>0.040724</td>\n",
       "      <td>6</td>\n",
       "      <td>124</td>\n",
       "      <td>0.046154</td>\n",
       "      <td>5</td>\n",
       "      <td>11</td>\n",
       "      <td>0.312500</td>\n",
       "      <td>NaN</td>\n",
       "      <td>0</td>\n",
       "      <td>0</td>\n",
       "      <td>NaN</td>\n",
       "      <td>NaN</td>\n",
       "    </tr>\n",
       "  </tbody>\n",
       "</table>\n",
       "</div>"
      ],
      "text/plain": [
       "   new_use_id  old_use_id  taobao_record_count  taobao_buy_count  \\\n",
       "0           0     1980536                 1948                 4   \n",
       "1           1      647747                  337                 8   \n",
       "2           2      183647                  431                79   \n",
       "3           3      723956                  384                59   \n",
       "4           4     1781938                  151                 8   \n",
       "5           5     1652831                  370                15   \n",
       "6           6      416403                 1055                30   \n",
       "7           7       43130                  249                31   \n",
       "8           8      502518                  316                26   \n",
       "9           9      109400                  221                 9   \n",
       "\n",
       "   taobao_click_count  taobao_buy_ratio  taobao_items_buy_count  \\\n",
       "0                1944          0.002053                       4   \n",
       "1                 329          0.023739                       8   \n",
       "2                 352          0.183295                      56   \n",
       "3                 325          0.153646                      42   \n",
       "4                 143          0.052980                       8   \n",
       "5                 355          0.040541                      12   \n",
       "6                1025          0.028436                      16   \n",
       "7                 218          0.124498                      29   \n",
       "8                 290          0.082278                      20   \n",
       "9                 212          0.040724                       6   \n",
       "\n",
       "   taobao_items_click_count  taobao_items_buy_ratio  taobao_cats_buy_count  \\\n",
       "0                       323                0.012232                      2   \n",
       "1                       266                0.029197                      5   \n",
       "2                       220                0.202899                     18   \n",
       "3                       203                0.171429                     17   \n",
       "4                        99                0.074766                      6   \n",
       "5                       164                0.068182                      7   \n",
       "6                       651                0.023988                      9   \n",
       "7                       158                0.155080                      9   \n",
       "8                       186                0.097087                      7   \n",
       "9                       124                0.046154                      5   \n",
       "\n",
       "   taobao_cats_click_count  taobao_cats_buy_ratio  koubei_record_count  \\\n",
       "0                       25               0.074074                  NaN   \n",
       "1                       27               0.156250                  NaN   \n",
       "2                       27               0.400000                  NaN   \n",
       "3                       23               0.425000                  NaN   \n",
       "4                       20               0.230769                  NaN   \n",
       "5                       16               0.304348                  NaN   \n",
       "6                       30               0.230769                  NaN   \n",
       "7                       24               0.272727                  NaN   \n",
       "8                       22               0.241379                  NaN   \n",
       "9                       11               0.312500                  NaN   \n",
       "\n",
       "   locations_count  merchant_count  koubei_locations_count  \\\n",
       "0                0               0                     NaN   \n",
       "1                0               0                     NaN   \n",
       "2                0               0                     NaN   \n",
       "3                0               0                     NaN   \n",
       "4                0               0                     NaN   \n",
       "5                0               0                     NaN   \n",
       "6                0               0                     NaN   \n",
       "7                0               0                     NaN   \n",
       "8                0               0                     NaN   \n",
       "9                0               0                     NaN   \n",
       "\n",
       "   koubei_merchant_count  \n",
       "0                    NaN  \n",
       "1                    NaN  \n",
       "2                    NaN  \n",
       "3                    NaN  \n",
       "4                    NaN  \n",
       "5                    NaN  \n",
       "6                    NaN  \n",
       "7                    NaN  \n",
       "8                    NaN  \n",
       "9                    NaN  "
      ]
     },
     "execution_count": 69,
     "metadata": {},
     "output_type": "execute_result"
    }
   ],
   "source": [
    "user_df.head(10)"
   ]
  },
  {
   "cell_type": "code",
   "execution_count": 87,
   "metadata": {
    "collapsed": true
   },
   "outputs": [],
   "source": [
    "user_df['koubei_record_count'] = user_df['koubei_locations_count'] = user_df['koubei_merchant_count'] = 0"
   ]
  },
  {
   "cell_type": "code",
   "execution_count": 65,
   "metadata": {
    "collapsed": true
   },
   "outputs": [],
   "source": [
    "df_kb = pd.read_csv('./data/koubei_train_922595.csv')"
   ]
  },
  {
   "cell_type": "code",
   "execution_count": 67,
   "metadata": {},
   "outputs": [
    {
     "data": {
      "text/html": [
       "<div>\n",
       "<style scoped>\n",
       "    .dataframe tbody tr th:only-of-type {\n",
       "        vertical-align: middle;\n",
       "    }\n",
       "\n",
       "    .dataframe tbody tr th {\n",
       "        vertical-align: top;\n",
       "    }\n",
       "\n",
       "    .dataframe thead th {\n",
       "        text-align: right;\n",
       "    }\n",
       "</style>\n",
       "<table border=\"1\" class=\"dataframe\">\n",
       "  <thead>\n",
       "    <tr style=\"text-align: right;\">\n",
       "      <th></th>\n",
       "      <th>Unnamed: 0</th>\n",
       "      <th>use_ID</th>\n",
       "      <th>mer_ID</th>\n",
       "      <th>loc_ID</th>\n",
       "      <th>time</th>\n",
       "    </tr>\n",
       "  </thead>\n",
       "  <tbody>\n",
       "    <tr>\n",
       "      <th>0</th>\n",
       "      <td>0</td>\n",
       "      <td>1027765</td>\n",
       "      <td>4822</td>\n",
       "      <td>172</td>\n",
       "      <td>20151028</td>\n",
       "    </tr>\n",
       "    <tr>\n",
       "      <th>1</th>\n",
       "      <td>1</td>\n",
       "      <td>141398</td>\n",
       "      <td>4822</td>\n",
       "      <td>172</td>\n",
       "      <td>20151115</td>\n",
       "    </tr>\n",
       "    <tr>\n",
       "      <th>2</th>\n",
       "      <td>2</td>\n",
       "      <td>141398</td>\n",
       "      <td>4822</td>\n",
       "      <td>172</td>\n",
       "      <td>20151005</td>\n",
       "    </tr>\n",
       "    <tr>\n",
       "      <th>3</th>\n",
       "      <td>3</td>\n",
       "      <td>1027765</td>\n",
       "      <td>4822</td>\n",
       "      <td>172</td>\n",
       "      <td>20151026</td>\n",
       "    </tr>\n",
       "    <tr>\n",
       "      <th>4</th>\n",
       "      <td>4</td>\n",
       "      <td>141398</td>\n",
       "      <td>4822</td>\n",
       "      <td>172</td>\n",
       "      <td>20151011</td>\n",
       "    </tr>\n",
       "  </tbody>\n",
       "</table>\n",
       "</div>"
      ],
      "text/plain": [
       "   Unnamed: 0   use_ID  mer_ID  loc_ID      time\n",
       "0           0  1027765    4822     172  20151028\n",
       "1           1   141398    4822     172  20151115\n",
       "2           2   141398    4822     172  20151005\n",
       "3           3  1027765    4822     172  20151026\n",
       "4           4   141398    4822     172  20151011"
      ]
     },
     "execution_count": 67,
     "metadata": {},
     "output_type": "execute_result"
    }
   ],
   "source": [
    "df_kb.head()"
   ]
  },
  {
   "cell_type": "code",
   "execution_count": 72,
   "metadata": {},
   "outputs": [
    {
     "name": "stderr",
     "output_type": "stream",
     "text": [
      "922595it [01:09, 13204.62it/s]\n"
     ]
    }
   ],
   "source": [
    "kb_record_count = defaultdict(int)\n",
    "kb_locs = defaultdict(list)\n",
    "kb_mers = defaultdict(list)\n",
    "for i, row in tqdm(df_kb.iterrows()):\n",
    "    tmp_old_use_id = row['use_ID']\n",
    "    kb_record_count[tmp_old_use_id] += 1\n",
    "    if row['loc_ID'] not in kb_locs[tmp_old_use_id]:\n",
    "        kb_locs[tmp_old_use_id].append(row['loc_ID'])\n",
    "    if row['mer_ID'] not in kb_mers[tmp_old_use_id]:\n",
    "        kb_mers[tmp_old_use_id].append(row['mer_ID'])"
   ]
  },
  {
   "cell_type": "code",
   "execution_count": 73,
   "metadata": {
    "collapsed": true
   },
   "outputs": [],
   "source": [
    "kb_locs_count = dict(zip(kb_locs.keys(), [len(i) for i in kb_locs.values()]))\n",
    "kb_mers_count = dict(zip(kb_mers.keys(), [len(i) for i in kb_mers.values()]))"
   ]
  },
  {
   "cell_type": "code",
   "execution_count": 88,
   "metadata": {
    "collapsed": true
   },
   "outputs": [],
   "source": [
    "def helper_with_default(df, col, dic, default = 0):\n",
    "    sorted_feature = []\n",
    "    for i in tqdm(old_use_id):\n",
    "        if i in dic:\n",
    "            sorted_feature.append(dic[i])\n",
    "        else:\n",
    "            sorted_feature.append(default)\n",
    "    df[col] = sorted_feature"
   ]
  },
  {
   "cell_type": "code",
   "execution_count": 89,
   "metadata": {},
   "outputs": [
    {
     "name": "stderr",
     "output_type": "stream",
     "text": [
      "\n",
      "  0%|          | 0/963923 [00:00<?, ?it/s]\u001b[A\n",
      " 13%|█▎        | 129543/963923 [00:00<00:00, 1261560.43it/s]\u001b[A\n",
      " 23%|██▎       | 223236/963923 [00:00<00:00, 1110604.61it/s]\u001b[A\n",
      " 37%|███▋      | 354746/963923 [00:00<00:00, 1178429.80it/s]\u001b[A\n",
      " 52%|█████▏    | 504584/963923 [00:00<00:00, 1259285.23it/s]\u001b[A\n",
      " 68%|██████▊   | 658352/963923 [00:00<00:00, 1314724.85it/s]\u001b[A\n",
      " 84%|████████▎ | 805261/963923 [00:00<00:00, 1337438.40it/s]\u001b[A\n",
      " 97%|█████████▋| 939434/963923 [00:00<00:00, 1339860.72it/s]\u001b[A\n",
      "100%|██████████| 963923/963923 [00:00<00:00, 1336139.17it/s]\u001b[A\n",
      "  0%|          | 0/963923 [00:00<?, ?it/s]\u001b[A\n",
      " 16%|█▌        | 156331/963923 [00:00<00:00, 1548689.72it/s]\u001b[A\n",
      " 31%|███▏      | 303404/963923 [00:00<00:00, 1511353.38it/s]\u001b[A\n",
      " 48%|████▊     | 466245/963923 [00:00<00:00, 1550558.17it/s]\u001b[A\n",
      " 66%|██████▌   | 635060/963923 [00:00<00:00, 1584599.85it/s]\u001b[A\n",
      " 84%|████████▍ | 809488/963923 [00:00<00:00, 1616176.99it/s]\u001b[A\n",
      "100%|██████████| 963923/963923 [00:00<00:00, 1631516.54it/s]\u001b[A\n",
      "  0%|          | 0/963923 [00:00<?, ?it/s]\u001b[A\n",
      " 16%|█▋        | 156943/963923 [00:00<00:00, 1556756.38it/s]\u001b[A\n",
      " 33%|███▎      | 313492/963923 [00:00<00:00, 1561719.96it/s]\u001b[A\n",
      " 48%|████▊     | 465257/963923 [00:00<00:00, 1545431.96it/s]\u001b[A\n",
      " 61%|██████▏   | 591920/963923 [00:00<00:00, 1473771.82it/s]\u001b[A\n",
      " 76%|███████▌  | 729593/963923 [00:00<00:00, 1456218.22it/s]\u001b[A\n",
      " 93%|█████████▎| 895686/963923 [00:00<00:00, 1491115.05it/s]\u001b[A\n",
      "100%|██████████| 963923/963923 [00:00<00:00, 1509445.40it/s]\u001b[A"
     ]
    }
   ],
   "source": [
    "helper_with_default(user_df, 'koubei_record_count', kb_record_count)\n",
    "helper_with_default(user_df, 'koubei_locations_count', kb_locs_count)\n",
    "helper_with_default(user_df, 'koubei_merchant_count', kb_mers_count)"
   ]
  },
  {
   "cell_type": "code",
   "execution_count": 90,
   "metadata": {},
   "outputs": [
    {
     "data": {
      "text/html": [
       "<div>\n",
       "<style scoped>\n",
       "    .dataframe tbody tr th:only-of-type {\n",
       "        vertical-align: middle;\n",
       "    }\n",
       "\n",
       "    .dataframe tbody tr th {\n",
       "        vertical-align: top;\n",
       "    }\n",
       "\n",
       "    .dataframe thead th {\n",
       "        text-align: right;\n",
       "    }\n",
       "</style>\n",
       "<table border=\"1\" class=\"dataframe\">\n",
       "  <thead>\n",
       "    <tr style=\"text-align: right;\">\n",
       "      <th></th>\n",
       "      <th>new_use_id</th>\n",
       "      <th>old_use_id</th>\n",
       "      <th>taobao_record_count</th>\n",
       "      <th>taobao_buy_count</th>\n",
       "      <th>taobao_click_count</th>\n",
       "      <th>taobao_buy_ratio</th>\n",
       "      <th>taobao_items_buy_count</th>\n",
       "      <th>taobao_items_click_count</th>\n",
       "      <th>taobao_items_buy_ratio</th>\n",
       "      <th>taobao_cats_buy_count</th>\n",
       "      <th>taobao_cats_click_count</th>\n",
       "      <th>taobao_cats_buy_ratio</th>\n",
       "      <th>koubei_record_count</th>\n",
       "      <th>locations_count</th>\n",
       "      <th>merchant_count</th>\n",
       "      <th>koubei_locations_count</th>\n",
       "      <th>koubei_merchant_count</th>\n",
       "    </tr>\n",
       "  </thead>\n",
       "  <tbody>\n",
       "    <tr>\n",
       "      <th>0</th>\n",
       "      <td>0</td>\n",
       "      <td>1980536</td>\n",
       "      <td>1948</td>\n",
       "      <td>4</td>\n",
       "      <td>1944</td>\n",
       "      <td>0.002053</td>\n",
       "      <td>4</td>\n",
       "      <td>323</td>\n",
       "      <td>0.012232</td>\n",
       "      <td>2</td>\n",
       "      <td>25</td>\n",
       "      <td>0.074074</td>\n",
       "      <td>0</td>\n",
       "      <td>0</td>\n",
       "      <td>0</td>\n",
       "      <td>0</td>\n",
       "      <td>0</td>\n",
       "    </tr>\n",
       "    <tr>\n",
       "      <th>1</th>\n",
       "      <td>1</td>\n",
       "      <td>647747</td>\n",
       "      <td>337</td>\n",
       "      <td>8</td>\n",
       "      <td>329</td>\n",
       "      <td>0.023739</td>\n",
       "      <td>8</td>\n",
       "      <td>266</td>\n",
       "      <td>0.029197</td>\n",
       "      <td>5</td>\n",
       "      <td>27</td>\n",
       "      <td>0.156250</td>\n",
       "      <td>0</td>\n",
       "      <td>0</td>\n",
       "      <td>0</td>\n",
       "      <td>0</td>\n",
       "      <td>0</td>\n",
       "    </tr>\n",
       "    <tr>\n",
       "      <th>2</th>\n",
       "      <td>2</td>\n",
       "      <td>183647</td>\n",
       "      <td>431</td>\n",
       "      <td>79</td>\n",
       "      <td>352</td>\n",
       "      <td>0.183295</td>\n",
       "      <td>56</td>\n",
       "      <td>220</td>\n",
       "      <td>0.202899</td>\n",
       "      <td>18</td>\n",
       "      <td>27</td>\n",
       "      <td>0.400000</td>\n",
       "      <td>0</td>\n",
       "      <td>0</td>\n",
       "      <td>0</td>\n",
       "      <td>0</td>\n",
       "      <td>0</td>\n",
       "    </tr>\n",
       "    <tr>\n",
       "      <th>3</th>\n",
       "      <td>3</td>\n",
       "      <td>723956</td>\n",
       "      <td>384</td>\n",
       "      <td>59</td>\n",
       "      <td>325</td>\n",
       "      <td>0.153646</td>\n",
       "      <td>42</td>\n",
       "      <td>203</td>\n",
       "      <td>0.171429</td>\n",
       "      <td>17</td>\n",
       "      <td>23</td>\n",
       "      <td>0.425000</td>\n",
       "      <td>0</td>\n",
       "      <td>0</td>\n",
       "      <td>0</td>\n",
       "      <td>0</td>\n",
       "      <td>0</td>\n",
       "    </tr>\n",
       "    <tr>\n",
       "      <th>4</th>\n",
       "      <td>4</td>\n",
       "      <td>1781938</td>\n",
       "      <td>151</td>\n",
       "      <td>8</td>\n",
       "      <td>143</td>\n",
       "      <td>0.052980</td>\n",
       "      <td>8</td>\n",
       "      <td>99</td>\n",
       "      <td>0.074766</td>\n",
       "      <td>6</td>\n",
       "      <td>20</td>\n",
       "      <td>0.230769</td>\n",
       "      <td>0</td>\n",
       "      <td>0</td>\n",
       "      <td>0</td>\n",
       "      <td>0</td>\n",
       "      <td>0</td>\n",
       "    </tr>\n",
       "    <tr>\n",
       "      <th>5</th>\n",
       "      <td>5</td>\n",
       "      <td>1652831</td>\n",
       "      <td>370</td>\n",
       "      <td>15</td>\n",
       "      <td>355</td>\n",
       "      <td>0.040541</td>\n",
       "      <td>12</td>\n",
       "      <td>164</td>\n",
       "      <td>0.068182</td>\n",
       "      <td>7</td>\n",
       "      <td>16</td>\n",
       "      <td>0.304348</td>\n",
       "      <td>2</td>\n",
       "      <td>0</td>\n",
       "      <td>0</td>\n",
       "      <td>1</td>\n",
       "      <td>1</td>\n",
       "    </tr>\n",
       "    <tr>\n",
       "      <th>6</th>\n",
       "      <td>6</td>\n",
       "      <td>416403</td>\n",
       "      <td>1055</td>\n",
       "      <td>30</td>\n",
       "      <td>1025</td>\n",
       "      <td>0.028436</td>\n",
       "      <td>16</td>\n",
       "      <td>651</td>\n",
       "      <td>0.023988</td>\n",
       "      <td>9</td>\n",
       "      <td>30</td>\n",
       "      <td>0.230769</td>\n",
       "      <td>0</td>\n",
       "      <td>0</td>\n",
       "      <td>0</td>\n",
       "      <td>0</td>\n",
       "      <td>0</td>\n",
       "    </tr>\n",
       "    <tr>\n",
       "      <th>7</th>\n",
       "      <td>7</td>\n",
       "      <td>43130</td>\n",
       "      <td>249</td>\n",
       "      <td>31</td>\n",
       "      <td>218</td>\n",
       "      <td>0.124498</td>\n",
       "      <td>29</td>\n",
       "      <td>158</td>\n",
       "      <td>0.155080</td>\n",
       "      <td>9</td>\n",
       "      <td>24</td>\n",
       "      <td>0.272727</td>\n",
       "      <td>23</td>\n",
       "      <td>0</td>\n",
       "      <td>0</td>\n",
       "      <td>2</td>\n",
       "      <td>1</td>\n",
       "    </tr>\n",
       "    <tr>\n",
       "      <th>8</th>\n",
       "      <td>8</td>\n",
       "      <td>502518</td>\n",
       "      <td>316</td>\n",
       "      <td>26</td>\n",
       "      <td>290</td>\n",
       "      <td>0.082278</td>\n",
       "      <td>20</td>\n",
       "      <td>186</td>\n",
       "      <td>0.097087</td>\n",
       "      <td>7</td>\n",
       "      <td>22</td>\n",
       "      <td>0.241379</td>\n",
       "      <td>0</td>\n",
       "      <td>0</td>\n",
       "      <td>0</td>\n",
       "      <td>0</td>\n",
       "      <td>0</td>\n",
       "    </tr>\n",
       "    <tr>\n",
       "      <th>9</th>\n",
       "      <td>9</td>\n",
       "      <td>109400</td>\n",
       "      <td>221</td>\n",
       "      <td>9</td>\n",
       "      <td>212</td>\n",
       "      <td>0.040724</td>\n",
       "      <td>6</td>\n",
       "      <td>124</td>\n",
       "      <td>0.046154</td>\n",
       "      <td>5</td>\n",
       "      <td>11</td>\n",
       "      <td>0.312500</td>\n",
       "      <td>0</td>\n",
       "      <td>0</td>\n",
       "      <td>0</td>\n",
       "      <td>0</td>\n",
       "      <td>0</td>\n",
       "    </tr>\n",
       "  </tbody>\n",
       "</table>\n",
       "</div>"
      ],
      "text/plain": [
       "   new_use_id  old_use_id  taobao_record_count  taobao_buy_count  \\\n",
       "0           0     1980536                 1948                 4   \n",
       "1           1      647747                  337                 8   \n",
       "2           2      183647                  431                79   \n",
       "3           3      723956                  384                59   \n",
       "4           4     1781938                  151                 8   \n",
       "5           5     1652831                  370                15   \n",
       "6           6      416403                 1055                30   \n",
       "7           7       43130                  249                31   \n",
       "8           8      502518                  316                26   \n",
       "9           9      109400                  221                 9   \n",
       "\n",
       "   taobao_click_count  taobao_buy_ratio  taobao_items_buy_count  \\\n",
       "0                1944          0.002053                       4   \n",
       "1                 329          0.023739                       8   \n",
       "2                 352          0.183295                      56   \n",
       "3                 325          0.153646                      42   \n",
       "4                 143          0.052980                       8   \n",
       "5                 355          0.040541                      12   \n",
       "6                1025          0.028436                      16   \n",
       "7                 218          0.124498                      29   \n",
       "8                 290          0.082278                      20   \n",
       "9                 212          0.040724                       6   \n",
       "\n",
       "   taobao_items_click_count  taobao_items_buy_ratio  taobao_cats_buy_count  \\\n",
       "0                       323                0.012232                      2   \n",
       "1                       266                0.029197                      5   \n",
       "2                       220                0.202899                     18   \n",
       "3                       203                0.171429                     17   \n",
       "4                        99                0.074766                      6   \n",
       "5                       164                0.068182                      7   \n",
       "6                       651                0.023988                      9   \n",
       "7                       158                0.155080                      9   \n",
       "8                       186                0.097087                      7   \n",
       "9                       124                0.046154                      5   \n",
       "\n",
       "   taobao_cats_click_count  taobao_cats_buy_ratio  koubei_record_count  \\\n",
       "0                       25               0.074074                    0   \n",
       "1                       27               0.156250                    0   \n",
       "2                       27               0.400000                    0   \n",
       "3                       23               0.425000                    0   \n",
       "4                       20               0.230769                    0   \n",
       "5                       16               0.304348                    2   \n",
       "6                       30               0.230769                    0   \n",
       "7                       24               0.272727                   23   \n",
       "8                       22               0.241379                    0   \n",
       "9                       11               0.312500                    0   \n",
       "\n",
       "   locations_count  merchant_count  koubei_locations_count  \\\n",
       "0                0               0                       0   \n",
       "1                0               0                       0   \n",
       "2                0               0                       0   \n",
       "3                0               0                       0   \n",
       "4                0               0                       0   \n",
       "5                0               0                       1   \n",
       "6                0               0                       0   \n",
       "7                0               0                       2   \n",
       "8                0               0                       0   \n",
       "9                0               0                       0   \n",
       "\n",
       "   koubei_merchant_count  \n",
       "0                      0  \n",
       "1                      0  \n",
       "2                      0  \n",
       "3                      0  \n",
       "4                      0  \n",
       "5                      1  \n",
       "6                      0  \n",
       "7                      1  \n",
       "8                      0  \n",
       "9                      0  "
      ]
     },
     "execution_count": 90,
     "metadata": {},
     "output_type": "execute_result"
    }
   ],
   "source": [
    "user_df.head(10)"
   ]
  },
  {
   "cell_type": "code",
   "execution_count": 91,
   "metadata": {
    "collapsed": true
   },
   "outputs": [],
   "source": [
    "user_df.to_csv('./data/user_handcrafted_features.csv', index = False)"
   ]
  },
  {
   "cell_type": "markdown",
   "metadata": {},
   "source": [
    "### Spectral Clustering"
   ]
  },
  {
   "cell_type": "code",
   "execution_count": 9,
   "metadata": {
    "collapsed": true
   },
   "outputs": [],
   "source": [
    "def select_k_and_display(k_list, data):\n",
    "    Calinski_Harabasz_k = 0\n",
    "    Calinski_Harabasz_score = -1\n",
    "    Calinski_Harabasz_cls = None\n",
    "    ch_score_series = []\n",
    "    \n",
    "    Silhouette_k = 0\n",
    "    Silhouette_score = -1\n",
    "    Silhouette_cls = None\n",
    "    sc_score_series = []\n",
    "    for i in k_list:\n",
    "        clustering = SpectralClustering(n_clusters=i,\n",
    "                                        n_init=10, \n",
    "                                        gamma=1.0,\n",
    "                                        affinity='rbf',\n",
    "                                        assign_labels ='kmeans',\n",
    "                                        n_jobs=5)\n",
    "        cls = clustering.fit(data)\n",
    "        y_pred = clustering.fit_predict(data)\n",
    "        ch_score = metrics.calinski_harabaz_score(data, y_pred)\n",
    "        s_score = metrics.silhouette_score(data, cls.labels_, metric='euclidean')\n",
    "        \n",
    "        ch_score_series.append(ch_score)\n",
    "        sc_score_series.append(s_score)\n",
    "        \n",
    "        print(\"Calinski-Harabasz Score with n_clusters=\", i,\"score:\", ch_score)\n",
    "        print(\"Silhouette Score with n_clusters=\", i,\"score:\", s_score)\n",
    "        \n",
    "        if ch_score > Calinski_Harabasz_score:\n",
    "            Calinski_Harabasz_score = ch_score\n",
    "            Calinski_Harabasz_k = i\n",
    "            Calinski_Harabasz_cls = cls\n",
    "            \n",
    "        if abs(s_score - 1) < abs(Silhouette_score - 1):\n",
    "            Silhouette_score = s_score\n",
    "            Silhouette_k = i\n",
    "            Silhouette_cls = cls\n",
    "            \n",
    "    print(\"The best Silhouette Score is \"+str(Silhouette_score)+\" and the best k is \"+str(Silhouette_k))\n",
    "    print(\"The best Calinski-Harabasz Score is \"+str(Calinski_Harabasz_score)+\" and the best k is \"+str(Calinski_Harabasz_k))\n",
    "    \n",
    "    if Silhouette_k == Calinski_Harabasz_k:\n",
    "        fit_data = data[np.argsort(Calinski_Harabasz_cls.labels_)]\n",
    "#         heat_map_for_original(fit_data)\n",
    "        show_clusters(data, Calinski_Harabasz_cls)\n",
    "        \n",
    "    else:\n",
    "        ch_fit_data = data[np.argsort(Calinski_Harabasz_cls.labels_)]\n",
    "#         heat_map_for_original(ch_fit_data)\n",
    "        show_clusters(ch_fit_data, Calinski_Harabasz_cls)\n",
    "        \n",
    "        sc_fit_data = data[np.argsort(Silhouette_cls.labels_)]\n",
    "#         heat_map_for_original(sc_fit_data)\n",
    "        show_clusters(sc_fit_data, Silhouette_cls)\n",
    "        \n",
    "    plt.plot(k_list, ch_score_series)\n",
    "    plt.title('Calinski_Harabasz_score trend with k increasing')\n",
    "    plt.xlabel('k component number')\n",
    "    plt.ylabel('Calinski_Harabasz_score')\n",
    "#     plt.legend()\n",
    "    plt.show()\n",
    "    \n",
    "    plt.plot(k_list, sc_score_series)\n",
    "    plt.title('Silhouette_score trend with k increasing')\n",
    "    plt.xlabel('k component number')\n",
    "    plt.ylabel('Silhouette_score')\n",
    "#     plt.legend()\n",
    "    plt.show()"
   ]
  },
  {
   "cell_type": "code",
   "execution_count": 10,
   "metadata": {},
   "outputs": [
    {
     "name": "stdout",
     "output_type": "stream",
     "text": [
      "Calinski-Harabasz Score with n_clusters= 5 score: 839554133.5464616\n",
      "Silhouette Score with n_clusters= 5 score: 0.9217310440854494\n",
      "The best Silhouette Score is 0.9217310440854494 and the best k is 5\n",
      "The best Calinski-Harabasz Score is 839554133.5464616 and the best k is 5\n",
      "[29994, 2, 2, 1, 1]\n"
     ]
    },
    {
     "data": {
      "image/png": "[encoded data removed]",
      "text/plain": [
       "<matplotlib.figure.Figure at 0x105049f60>"
      ]
     },
     "metadata": {},
     "output_type": "display_data"
    },
    {
     "data": {
      "image/png": "[encoded data removed]",
      "text/plain": [
       "<matplotlib.figure.Figure at 0x116decfd0>"
      ]
     },
     "metadata": {},
     "output_type": "display_data"
    },
    {
     "data": {
      "image/png": "[encoded data removed]",
      "text/plain": [
       "<matplotlib.figure.Figure at 0x116e125f8>"
      ]
     },
     "metadata": {},
     "output_type": "display_data"
    }
   ],
   "source": [
    "k_list = [5]\n",
    "\n",
    "select_k_and_display(k_list, user_dis_normalized)"
   ]
  },
  {
   "cell_type": "code",
   "execution_count": null,
   "metadata": {
    "collapsed": true
   },
   "outputs": [],
   "source": []
  }
 ],
 "metadata": {
  "kernelspec": {
   "display_name": "Python 3",
   "language": "python",
   "name": "python3"
  },
  "language_info": {
   "codemirror_mode": {
    "name": "ipython",
    "version": 3
   },
   "file_extension": ".py",
   "mimetype": "text/x-python",
   "name": "python",
   "nbconvert_exporter": "python",
   "pygments_lexer": "ipython3",
   "version": "3.6.4"
  }
 },
 "nbformat": 4,
 "nbformat_minor": 2
}
